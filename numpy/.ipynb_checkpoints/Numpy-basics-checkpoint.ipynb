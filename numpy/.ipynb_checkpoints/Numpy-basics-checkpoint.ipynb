{
 "cells": [
  {
   "cell_type": "code",
   "execution_count": 3,
   "id": "f70c3b4e-0779-48f6-bfb0-bbe0a333090a",
   "metadata": {},
   "outputs": [
    {
     "name": "stdout",
     "output_type": "stream",
     "text": [
      "Requirement already satisfied: numpy in c:\\users\\user\\appdata\\local\\programs\\python\\python312\\lib\\site-packages (2.2.2)Note: you may need to restart the kernel to use updated packages.\n",
      "\n"
     ]
    },
    {
     "name": "stderr",
     "output_type": "stream",
     "text": [
      "\n",
      "[notice] A new release of pip is available: 24.0 -> 25.2\n",
      "[notice] To update, run: C:\\Users\\UseR\\AppData\\Local\\Programs\\Python\\Python312\\python.exe -m pip install --upgrade pip\n"
     ]
    }
   ],
   "source": [
    "pip install numpy"
   ]
  },
  {
   "cell_type": "code",
   "execution_count": 4,
   "id": "f300d525-5759-4170-b569-67bcb95ad455",
   "metadata": {},
   "outputs": [],
   "source": [
    "import numpy as np"
   ]
  },
  {
   "cell_type": "code",
   "execution_count": 6,
   "id": "038366d7-af2b-4790-8e37-3df77a6e6a98",
   "metadata": {},
   "outputs": [
    {
     "data": {
      "text/plain": [
       "array([1, 2, 3, 4, 5])"
      ]
     },
     "execution_count": 6,
     "metadata": {},
     "output_type": "execute_result"
    }
   ],
   "source": [
    "#creating an array\n",
    "arr = np.array([1,2,3,4,5])\n",
    "arr"
   ]
  },
  {
   "cell_type": "code",
   "execution_count": 9,
   "id": "83b77fe7-71d5-45f6-82bc-d016c26c0bc6",
   "metadata": {},
   "outputs": [
    {
     "name": "stdout",
     "output_type": "stream",
     "text": [
      "11\n"
     ]
    }
   ],
   "source": [
    "# creating zero dimension array\n",
    "arrzero = np.array(11)\n",
    "print(arrzero)"
   ]
  },
  {
   "cell_type": "code",
   "execution_count": 10,
   "id": "13a98bb4-9788-4e48-8c9a-9276c1ec384f",
   "metadata": {},
   "outputs": [
    {
     "data": {
      "text/plain": [
       "1"
      ]
     },
     "execution_count": 10,
     "metadata": {},
     "output_type": "execute_result"
    }
   ],
   "source": [
    "#checking dimension of the array\n",
    "arr.ndim"
   ]
  },
  {
   "cell_type": "code",
   "execution_count": 11,
   "id": "28a6dab7-01cb-433d-bcf0-fef5b8f93264",
   "metadata": {},
   "outputs": [
    {
     "data": {
      "text/plain": [
       "0"
      ]
     },
     "execution_count": 11,
     "metadata": {},
     "output_type": "execute_result"
    }
   ],
   "source": [
    "arrzero.ndim"
   ]
  },
  {
   "cell_type": "code",
   "execution_count": 16,
   "id": "204c9430-8827-4d76-bc8c-97adc66b4d72",
   "metadata": {},
   "outputs": [
    {
     "name": "stdout",
     "output_type": "stream",
     "text": [
      "[[1 2 3 8 9]\n",
      " [4 5 6 7 8]]\n"
     ]
    },
    {
     "data": {
      "text/plain": [
       "2"
      ]
     },
     "execution_count": 16,
     "metadata": {},
     "output_type": "execute_result"
    }
   ],
   "source": [
    "# creating t2-D array\n",
    "arrtwo = np.array([[1,2,3,8,9],[4,5,6,7,8]])\n",
    "print(arrtwo)\n",
    "arrtwo.ndim"
   ]
  },
  {
   "cell_type": "code",
   "execution_count": 18,
   "id": "2052ed08-3853-4196-a568-af0c49bffd6d",
   "metadata": {},
   "outputs": [
    {
     "data": {
      "text/plain": [
       "10"
      ]
     },
     "execution_count": 18,
     "metadata": {},
     "output_type": "execute_result"
    }
   ],
   "source": [
    "# number of elements\n",
    "arrtwo.size"
   ]
  },
  {
   "cell_type": "code",
   "execution_count": 19,
   "id": "ed74e47f-9332-44d6-a3d5-c1471d09fd39",
   "metadata": {},
   "outputs": [
    {
     "data": {
      "text/plain": [
       "80"
      ]
     },
     "execution_count": 19,
     "metadata": {},
     "output_type": "execute_result"
    }
   ],
   "source": [
    "#total memory size of array\n",
    "arrtwo.nbytes"
   ]
  },
  {
   "cell_type": "code",
   "execution_count": 20,
   "id": "1f3b5499-030f-49e7-8c72-b1491586aad6",
   "metadata": {},
   "outputs": [
    {
     "data": {
      "text/plain": [
       "8"
      ]
     },
     "execution_count": 20,
     "metadata": {},
     "output_type": "execute_result"
    }
   ],
   "source": [
    "arrzero.nbytes"
   ]
  },
  {
   "cell_type": "code",
   "execution_count": 22,
   "id": "45c3b6bb-b15d-4e99-9f7b-f84fd7dd2d68",
   "metadata": {},
   "outputs": [
    {
     "data": {
      "text/plain": [
       "8"
      ]
     },
     "execution_count": 22,
     "metadata": {},
     "output_type": "execute_result"
    }
   ],
   "source": [
    "#single element size\n",
    "arrtwo.itemsize"
   ]
  },
  {
   "cell_type": "code",
   "execution_count": 23,
   "id": "2e7639ff-31c8-48ab-97e0-473c8e7800a0",
   "metadata": {},
   "outputs": [
    {
     "data": {
      "text/plain": [
       "dtype('int64')"
      ]
     },
     "execution_count": 23,
     "metadata": {},
     "output_type": "execute_result"
    }
   ],
   "source": [
    "#datatype of array\n",
    "arrtwo.dtype"
   ]
  },
  {
   "cell_type": "code",
   "execution_count": 24,
   "id": "4fe0a541-e94e-4572-912e-f985dfe70194",
   "metadata": {},
   "outputs": [
    {
     "name": "stdout",
     "output_type": "stream",
     "text": [
      "[[1 2 3 8 9]\n",
      " [4 5 6 7 8]]\n"
     ]
    }
   ],
   "source": [
    "print(arrtwo)"
   ]
  },
  {
   "cell_type": "code",
   "execution_count": 25,
   "id": "e10257e4-c714-4429-b5b1-b1d3310fccd7",
   "metadata": {},
   "outputs": [
    {
     "data": {
      "text/plain": [
       "np.int64(3)"
      ]
     },
     "execution_count": 25,
     "metadata": {},
     "output_type": "execute_result"
    }
   ],
   "source": [
    "#for a specific element\n",
    "arrtwo[0,2]"
   ]
  },
  {
   "cell_type": "code",
   "execution_count": 26,
   "id": "b6bb17fe-4934-4a94-87ac-8363d32038d1",
   "metadata": {},
   "outputs": [
    {
     "data": {
      "text/plain": [
       "array([1, 2, 3, 8, 9])"
      ]
     },
     "execution_count": 26,
     "metadata": {},
     "output_type": "execute_result"
    }
   ],
   "source": [
    "#filtering specific row from the array\n",
    "arrtwo[0,:]"
   ]
  },
  {
   "cell_type": "code",
   "execution_count": 27,
   "id": "03265510-11dd-4c00-a2ad-799347248069",
   "metadata": {},
   "outputs": [
    {
     "data": {
      "text/plain": [
       "array([4, 5, 6, 7, 8])"
      ]
     },
     "execution_count": 27,
     "metadata": {},
     "output_type": "execute_result"
    }
   ],
   "source": [
    "arrtwo[1,:]"
   ]
  },
  {
   "cell_type": "code",
   "execution_count": 28,
   "id": "c794b74f-1202-4519-acae-6d1867e25a45",
   "metadata": {},
   "outputs": [
    {
     "name": "stdout",
     "output_type": "stream",
     "text": [
      "[ 1  2  3  4  5  6  7  8  9 10 11]\n"
     ]
    }
   ],
   "source": [
    "arr3 = np.array([1,2,3,4,5,6,7,8,9,10,11])\n",
    "print(arr3)"
   ]
  },
  {
   "cell_type": "code",
   "execution_count": 35,
   "id": "ae58390a-8142-4f5e-8919-835b2025e280",
   "metadata": {},
   "outputs": [
    {
     "data": {
      "text/plain": [
       "array([2, 3, 4, 5])"
      ]
     },
     "execution_count": 35,
     "metadata": {},
     "output_type": "execute_result"
    }
   ],
   "source": [
    "# start index is inclusive, and ending index is exclusive\n",
    "arr3[1:5]"
   ]
  },
  {
   "cell_type": "code",
   "execution_count": null,
   "id": "9498022f-2c04-47b1-8a75-e5ee10f6dff2",
   "metadata": {},
   "outputs": [],
   "source": []
  },
  {
   "cell_type": "code",
   "execution_count": 33,
   "id": "63191bc7-e16b-48ae-a82a-ee408951ca8d",
   "metadata": {},
   "outputs": [
    {
     "name": "stdout",
     "output_type": "stream",
     "text": [
      "[ 5  6  7  8  9 10 11]\n"
     ]
    }
   ],
   "source": [
    "print(arr3[4:])"
   ]
  },
  {
   "cell_type": "code",
   "execution_count": null,
   "id": "17474748-7965-4a33-9d83-bfe8c0233470",
   "metadata": {},
   "outputs": [],
   "source": []
  },
  {
   "cell_type": "code",
   "execution_count": 34,
   "id": "b6f65d7a-c684-4652-896d-d69b6d2142ef",
   "metadata": {},
   "outputs": [
    {
     "name": "stdout",
     "output_type": "stream",
     "text": [
      "[1 2 3 4 5]\n"
     ]
    }
   ],
   "source": [
    "print(arr3[:5])"
   ]
  },
  {
   "cell_type": "code",
   "execution_count": 36,
   "id": "bce9b4c9-48be-4721-abfb-7f8479866041",
   "metadata": {},
   "outputs": [
    {
     "name": "stdout",
     "output_type": "stream",
     "text": [
      "[[1 2 3 8 9]\n",
      " [4 5 6 7 8]]\n"
     ]
    }
   ],
   "source": [
    "print(arrtwo)"
   ]
  },
  {
   "cell_type": "code",
   "execution_count": 37,
   "id": "5c33307e-376b-4f5d-b3de-6a5e13a51b12",
   "metadata": {},
   "outputs": [
    {
     "name": "stdout",
     "output_type": "stream",
     "text": [
      "[5 6 7]\n"
     ]
    }
   ],
   "source": [
    "print(arrtwo[1,1:4])"
   ]
  },
  {
   "cell_type": "code",
   "execution_count": 38,
   "id": "887d37dd-72d7-4376-8f10-8a3c8e411a8a",
   "metadata": {},
   "outputs": [
    {
     "name": "stdout",
     "output_type": "stream",
     "text": [
      "[[1 2 3 8 9]\n",
      " [4 5 6 7 8]]\n"
     ]
    }
   ],
   "source": [
    "#copying of an array\n",
    "arr4 = arrtwo.copy()\n",
    "print(arr4)"
   ]
  },
  {
   "cell_type": "code",
   "execution_count": 40,
   "id": "c15270f4-b07e-4c8c-8896-a4f340280de8",
   "metadata": {},
   "outputs": [
    {
     "data": {
      "text/plain": [
       "array([[0., 0., 0., 0., 0., 0.],\n",
       "       [0., 0., 0., 0., 0., 0.],\n",
       "       [0., 0., 0., 0., 0., 0.],\n",
       "       [0., 0., 0., 0., 0., 0.]])"
      ]
     },
     "execution_count": 40,
     "metadata": {},
     "output_type": "execute_result"
    }
   ],
   "source": [
    "# Zero matrix\n",
    "np.zeros((4,6))"
   ]
  },
  {
   "cell_type": "code",
   "execution_count": 45,
   "id": "ab1a4f0c-d732-4108-83c0-0a3d2ce84b26",
   "metadata": {},
   "outputs": [
    {
     "data": {
      "text/plain": [
       "array([[[1., 1., 1.],\n",
       "        [1., 1., 1.],\n",
       "        [1., 1., 1.]],\n",
       "\n",
       "       [[1., 1., 1.],\n",
       "        [1., 1., 1.],\n",
       "        [1., 1., 1.]],\n",
       "\n",
       "       [[1., 1., 1.],\n",
       "        [1., 1., 1.],\n",
       "        [1., 1., 1.]],\n",
       "\n",
       "       [[1., 1., 1.],\n",
       "        [1., 1., 1.],\n",
       "        [1., 1., 1.]],\n",
       "\n",
       "       [[1., 1., 1.],\n",
       "        [1., 1., 1.],\n",
       "        [1., 1., 1.]]])"
      ]
     },
     "execution_count": 45,
     "metadata": {},
     "output_type": "execute_result"
    }
   ],
   "source": [
    "# All 1 matrix\n",
    "np.ones((5,3,3))"
   ]
  },
  {
   "cell_type": "code",
   "execution_count": 47,
   "id": "354c373c-1537-4dbc-8720-d935a0a4ad06",
   "metadata": {},
   "outputs": [
    {
     "data": {
      "text/plain": [
       "array([[28, 28, 28, 28],\n",
       "       [28, 28, 28, 28],\n",
       "       [28, 28, 28, 28],\n",
       "       [28, 28, 28, 28]])"
      ]
     },
     "execution_count": 47,
     "metadata": {},
     "output_type": "execute_result"
    }
   ],
   "source": [
    "# other matrix\n",
    "np.full((4,4),28)"
   ]
  },
  {
   "cell_type": "code",
   "execution_count": 48,
   "id": "293c7758-4d8b-4cea-9fa9-8d8d85560886",
   "metadata": {},
   "outputs": [],
   "source": [
    "#importing random\n",
    "from numpy import random"
   ]
  },
  {
   "cell_type": "code",
   "execution_count": 49,
   "id": "4e3e5b1c-6436-4f8b-95c7-a068f5a61f15",
   "metadata": {},
   "outputs": [
    {
     "name": "stdout",
     "output_type": "stream",
     "text": [
      "20\n"
     ]
    }
   ],
   "source": [
    "x = random.randint(100)\n",
    "print(x)"
   ]
  },
  {
   "cell_type": "code",
   "execution_count": 54,
   "id": "9cbb97ae-3eae-4d82-8a30-1540889836e1",
   "metadata": {},
   "outputs": [
    {
     "data": {
      "text/plain": [
       "array([[0.78847864, 0.41985927, 0.97227915, 0.23780408, 0.02819423],\n",
       "       [0.10849133, 0.8693498 , 0.32458603, 0.6674564 , 0.17420419],\n",
       "       [0.01524053, 0.28778533, 0.45414164, 0.21110492, 0.86179768],\n",
       "       [0.86496943, 0.05029313, 0.65930719, 0.77535817, 0.19228107]])"
      ]
     },
     "execution_count": 54,
     "metadata": {},
     "output_type": "execute_result"
    }
   ],
   "source": [
    "np.random.rand(4,5)"
   ]
  },
  {
   "cell_type": "code",
   "execution_count": 56,
   "id": "dd9dc958-6169-4d0c-a383-296f148870d9",
   "metadata": {},
   "outputs": [
    {
     "data": {
      "text/plain": [
       "array([[1., 0., 0., 0., 0., 0., 0., 0., 0.],\n",
       "       [0., 1., 0., 0., 0., 0., 0., 0., 0.],\n",
       "       [0., 0., 1., 0., 0., 0., 0., 0., 0.],\n",
       "       [0., 0., 0., 1., 0., 0., 0., 0., 0.],\n",
       "       [0., 0., 0., 0., 1., 0., 0., 0., 0.],\n",
       "       [0., 0., 0., 0., 0., 1., 0., 0., 0.],\n",
       "       [0., 0., 0., 0., 0., 0., 1., 0., 0.],\n",
       "       [0., 0., 0., 0., 0., 0., 0., 1., 0.],\n",
       "       [0., 0., 0., 0., 0., 0., 0., 0., 1.]])"
      ]
     },
     "execution_count": 56,
     "metadata": {},
     "output_type": "execute_result"
    }
   ],
   "source": [
    "# identity matrix\n",
    "np.identity(9)"
   ]
  },
  {
   "cell_type": "code",
   "execution_count": 60,
   "id": "40c76fd8-22f0-4b92-ad99-ad8ba552b6b6",
   "metadata": {},
   "outputs": [
    {
     "name": "stdout",
     "output_type": "stream",
     "text": [
      "[10 20 20 30]\n"
     ]
    }
   ],
   "source": [
    "# Mathematical operations on aaray\n",
    "arrm = np.array([10,20,20,30])\n",
    "print(arrm)"
   ]
  },
  {
   "cell_type": "code",
   "execution_count": 64,
   "id": "2769ef47-4500-4e1a-a209-357a196cf093",
   "metadata": {},
   "outputs": [
    {
     "data": {
      "text/plain": [
       "array([25, 35, 35, 45])"
      ]
     },
     "execution_count": 64,
     "metadata": {},
     "output_type": "execute_result"
    }
   ],
   "source": [
    "# + operation\n",
    "arrm = arrm + 15\n",
    "arrm"
   ]
  },
  {
   "cell_type": "code",
   "execution_count": 65,
   "id": "2d957c76-d717-4b75-a25d-5e0aed78c852",
   "metadata": {},
   "outputs": [
    {
     "data": {
      "text/plain": [
       "array([25, 35, 35, 45])"
      ]
     },
     "execution_count": 65,
     "metadata": {},
     "output_type": "execute_result"
    }
   ],
   "source": [
    "arrm"
   ]
  },
  {
   "cell_type": "code",
   "execution_count": 67,
   "id": "a7a04386-a30c-4f43-9c87-0260c027a8af",
   "metadata": {},
   "outputs": [
    {
     "name": "stdout",
     "output_type": "stream",
     "text": [
      "[ 5 15 15 25]\n"
     ]
    }
   ],
   "source": [
    "arrm = arrm-20\n",
    "print(arrm)"
   ]
  },
  {
   "cell_type": "code",
   "execution_count": 69,
   "id": "0727bd6c-e560-4bc8-b7a3-b11674024f7e",
   "metadata": {},
   "outputs": [
    {
     "name": "stdout",
     "output_type": "stream",
     "text": [
      "[105 115 115 125]\n"
     ]
    }
   ],
   "source": [
    "arrz = arrm + 100\n",
    "print(arrz)"
   ]
  },
  {
   "cell_type": "code",
   "execution_count": 71,
   "id": "97e7bff3-4626-4399-8f3f-225623e4d842",
   "metadata": {},
   "outputs": [
    {
     "name": "stdout",
     "output_type": "stream",
     "text": [
      "[ 5 15 15 25]\n"
     ]
    },
    {
     "data": {
      "text/plain": [
       "array([ 50, 150, 150, 250])"
      ]
     },
     "execution_count": 71,
     "metadata": {},
     "output_type": "execute_result"
    }
   ],
   "source": [
    "# multiplication\n",
    "print(arrm)\n",
    "arrm*10"
   ]
  },
  {
   "cell_type": "code",
   "execution_count": 73,
   "id": "89f17d8e-42df-4299-9af8-8830e7f3f1fb",
   "metadata": {},
   "outputs": [
    {
     "data": {
      "text/plain": [
       "array([ 2.5,  7.5,  7.5, 12.5])"
      ]
     },
     "execution_count": 73,
     "metadata": {},
     "output_type": "execute_result"
    }
   ],
   "source": [
    "# Division\n",
    "arrm/2"
   ]
  },
  {
   "cell_type": "code",
   "execution_count": 74,
   "id": "5f5b9ad0-68b2-4d62-b0f3-0c84050be142",
   "metadata": {},
   "outputs": [
    {
     "name": "stdout",
     "output_type": "stream",
     "text": [
      "[ 3  9  9  9  9 11]\n"
     ]
    }
   ],
   "source": [
    "a1 = np.array([1,3,3,4,5,6])\n",
    "a2 = np.array([2,6,6,5,4,5])\n",
    "print(a1 + a2)"
   ]
  },
  {
   "cell_type": "code",
   "execution_count": 75,
   "id": "364eb1ac-b022-4026-b853-f27f12fb4dac",
   "metadata": {},
   "outputs": [
    {
     "data": {
      "text/plain": [
       "array([ 0.54030231, -0.9899925 , -0.9899925 , -0.65364362,  0.28366219,\n",
       "        0.96017029])"
      ]
     },
     "execution_count": 75,
     "metadata": {},
     "output_type": "execute_result"
    }
   ],
   "source": [
    "#cos function in array\n",
    "np.cos(a1)"
   ]
  },
  {
   "cell_type": "code",
   "execution_count": 76,
   "id": "d651b747-4e5d-4688-bfdd-d454f511cd19",
   "metadata": {},
   "outputs": [
    {
     "name": "stdout",
     "output_type": "stream",
     "text": [
      "[[1 2 3 8 9]\n",
      " [4 5 6 7 8]]\n"
     ]
    }
   ],
   "source": [
    "#minimum value of array and maximum value of array\n",
    "print(arrtwo)"
   ]
  },
  {
   "cell_type": "code",
   "execution_count": 79,
   "id": "da2871fb-684b-4ef6-9844-e1c8aa693ba0",
   "metadata": {},
   "outputs": [
    {
     "data": {
      "text/plain": [
       "np.int64(2)"
      ]
     },
     "execution_count": 79,
     "metadata": {},
     "output_type": "execute_result"
    }
   ],
   "source": [
    "np.min(arrtwo)"
   ]
  },
  {
   "cell_type": "code",
   "execution_count": 80,
   "id": "6cac3e8a-c681-4a62-b7f0-0d63318e78fa",
   "metadata": {},
   "outputs": [
    {
     "data": {
      "text/plain": [
       "np.int64(9)"
      ]
     },
     "execution_count": 80,
     "metadata": {},
     "output_type": "execute_result"
    }
   ],
   "source": [
    "np.max(arrtwo)"
   ]
  },
  {
   "cell_type": "code",
   "execution_count": 81,
   "id": "91fa8b32-b8cd-49ff-b8d4-fb5900103485",
   "metadata": {},
   "outputs": [
    {
     "data": {
      "text/plain": [
       "np.int64(53)"
      ]
     },
     "execution_count": 81,
     "metadata": {},
     "output_type": "execute_result"
    }
   ],
   "source": [
    "np.sum(arrtwo)"
   ]
  },
  {
   "cell_type": "code",
   "execution_count": 83,
   "id": "46e952bc-04fc-41b5-8674-93a1f0a0b6d9",
   "metadata": {},
   "outputs": [
    {
     "name": "stdout",
     "output_type": "stream",
     "text": [
      "1\n",
      "3\n",
      "3\n",
      "4\n",
      "5\n",
      "6\n"
     ]
    }
   ],
   "source": [
    "# iterating in 1-D array\n",
    "for x in a1:\n",
    "    print(x)"
   ]
  },
  {
   "cell_type": "code",
   "execution_count": 84,
   "id": "4ddc7cfc-8ea9-4f52-89c2-7b2e1a29d4b8",
   "metadata": {},
   "outputs": [
    {
     "name": "stdout",
     "output_type": "stream",
     "text": [
      "[1 2 3 8 9]\n",
      "[4 5 6 7 8]\n"
     ]
    }
   ],
   "source": [
    "# iterating in 2-D array\n",
    "for z in arrtwo:\n",
    "    print(z)"
   ]
  },
  {
   "cell_type": "code",
   "execution_count": 85,
   "id": "5f1e9bc0-08d6-4f4c-9810-3e06562c2935",
   "metadata": {},
   "outputs": [
    {
     "name": "stdout",
     "output_type": "stream",
     "text": [
      "1\n",
      "2\n",
      "3\n",
      "8\n",
      "9\n",
      "4\n",
      "5\n",
      "6\n",
      "7\n",
      "8\n"
     ]
    }
   ],
   "source": [
    "for n in arrtwo:\n",
    "    for b in n:\n",
    "        print(b)"
   ]
  },
  {
   "cell_type": "code",
   "execution_count": null,
   "id": "1fd31ca5-8453-4c82-9a61-ec3f42a1c89a",
   "metadata": {},
   "outputs": [],
   "source": []
  },
  {
   "cell_type": "code",
   "execution_count": null,
   "id": "78639eda-aded-4600-9480-845815e861e8",
   "metadata": {},
   "outputs": [],
   "source": []
  },
  {
   "cell_type": "code",
   "execution_count": null,
   "id": "f47a4584-cebd-47bc-983f-13b186618423",
   "metadata": {},
   "outputs": [],
   "source": []
  },
  {
   "cell_type": "code",
   "execution_count": null,
   "id": "bbbf3f9f-0656-4b81-9243-4543628850ec",
   "metadata": {},
   "outputs": [],
   "source": []
  },
  {
   "cell_type": "code",
   "execution_count": null,
   "id": "a89e96b3-6a44-4880-846d-4b565cf8d0e1",
   "metadata": {},
   "outputs": [],
   "source": []
  },
  {
   "cell_type": "code",
   "execution_count": null,
   "id": "4e5025f1-e5f1-4135-b693-729902336881",
   "metadata": {},
   "outputs": [],
   "source": []
  },
  {
   "cell_type": "code",
   "execution_count": null,
   "id": "307c3ab5-ea52-4a42-b1fb-f6379fa6def1",
   "metadata": {},
   "outputs": [],
   "source": []
  },
  {
   "cell_type": "code",
   "execution_count": null,
   "id": "46dcabca-c9ff-4259-966b-82e05c5f21d6",
   "metadata": {},
   "outputs": [],
   "source": []
  },
  {
   "cell_type": "code",
   "execution_count": null,
   "id": "74380b5f-e571-4904-b0e8-dd9cbe33132d",
   "metadata": {},
   "outputs": [],
   "source": []
  },
  {
   "cell_type": "code",
   "execution_count": null,
   "id": "c07b2077-9500-4775-b002-66609354c2ab",
   "metadata": {},
   "outputs": [],
   "source": []
  },
  {
   "cell_type": "code",
   "execution_count": null,
   "id": "fa203e78-421a-458a-8cf7-8c959932e6df",
   "metadata": {},
   "outputs": [],
   "source": []
  },
  {
   "cell_type": "code",
   "execution_count": null,
   "id": "da8d2774-358d-402f-b90e-486f1d094599",
   "metadata": {},
   "outputs": [],
   "source": []
  },
  {
   "cell_type": "code",
   "execution_count": null,
   "id": "f22b6574-5718-49f3-a21d-a37dd37dafe3",
   "metadata": {},
   "outputs": [],
   "source": []
  },
  {
   "cell_type": "code",
   "execution_count": null,
   "id": "e53ffaa3-af98-45ee-9912-35498503bd73",
   "metadata": {},
   "outputs": [],
   "source": []
  },
  {
   "cell_type": "code",
   "execution_count": null,
   "id": "db07a59d-d49a-4653-8e2f-cc3c092b1359",
   "metadata": {},
   "outputs": [],
   "source": []
  },
  {
   "cell_type": "code",
   "execution_count": null,
   "id": "835a9abc-4e21-4049-96e1-55549613527b",
   "metadata": {},
   "outputs": [],
   "source": []
  },
  {
   "cell_type": "code",
   "execution_count": null,
   "id": "4e9fd79a-5c9a-4b9a-b183-2d2da3efea1a",
   "metadata": {},
   "outputs": [],
   "source": []
  },
  {
   "cell_type": "code",
   "execution_count": null,
   "id": "5c965bc9-af9d-429c-80c5-27ffc2d9c861",
   "metadata": {},
   "outputs": [],
   "source": []
  },
  {
   "cell_type": "code",
   "execution_count": null,
   "id": "455dcdf8-0e51-47c1-8502-9dc2aa3da984",
   "metadata": {},
   "outputs": [],
   "source": []
  },
  {
   "cell_type": "code",
   "execution_count": null,
   "id": "115e0128-b91e-4c3b-be3a-44747a777d91",
   "metadata": {},
   "outputs": [],
   "source": []
  }
 ],
 "metadata": {
  "kernelspec": {
   "display_name": "Python 3 (ipykernel)",
   "language": "python",
   "name": "python3"
  },
  "language_info": {
   "codemirror_mode": {
    "name": "ipython",
    "version": 3
   },
   "file_extension": ".py",
   "mimetype": "text/x-python",
   "name": "python",
   "nbconvert_exporter": "python",
   "pygments_lexer": "ipython3",
   "version": "3.12.4"
  }
 },
 "nbformat": 4,
 "nbformat_minor": 5
}
